{
 "cells": [
  {
   "cell_type": "markdown",
   "metadata": {},
   "source": [
    "The equation for a regression line is as follows:"
   ]
  },
  {
   "cell_type": "markdown",
   "metadata": {},
   "source": [
    "((mean of all x's * mean of all y's) * - (mean of all x*y's))/(((mean of all x)**2) - (mean of all x squareds))"
   ]
  },
  {
   "cell_type": "code",
   "execution_count": null,
   "metadata": {},
   "outputs": [],
   "source": []
  },
  {
   "cell_type": "code",
   "execution_count": 24,
   "metadata": {},
   "outputs": [
    {
     "name": "stdout",
     "output_type": "stream",
     "text": [
      "y = 1.135135135135135x + (1.5135135135135136)\n"
     ]
    }
   ],
   "source": [
    "class Point2D:\n",
    "    def __init__(self,x,y):\n",
    "        self.x = x\n",
    "        self.y = y\n",
    "\n",
    "# Generates a line of least squares\n",
    "def lineOfBestFit(points):\n",
    "    meanX = float(0)\n",
    "    meanY = float(0)\n",
    "    meanXY = float(0)\n",
    "    meanXSquared = float(0)\n",
    "    slope = float(0)\n",
    "\n",
    "    for i in points:\n",
    "        meanX += i.x\n",
    "        meanY += i.y\n",
    "        meanXY += (i.x * i.y)\n",
    "        meanXSquared = ((i.x)^2)\n",
    "    meanX /= len(points)\n",
    "    meanY /= len(points)\n",
    "    meanXY /= len(points)\n",
    "    meanXSquared /= len(points)\n",
    "\n",
    "    slope = ((meanX*meanY)-(meanY))/(((meanX)**2)-meanXSquared)\n",
    "    yInt = meanY - (slope*meanX)\n",
    "    print(\"y = \" + str(slope) + \"x + (\" + str(yInt) + \")\")\n",
    "\n",
    "a = Point2D(1,2)\n",
    "b = Point2D(3,2)\n",
    "c = Point2D(2,5)\n",
    "d = Point2D(1,5)\n",
    "lineOfBestFit([a,b,c,d])"
   ]
  }
 ],
 "metadata": {
  "interpreter": {
   "hash": "aee8b7b246df8f9039afb4144a1f6fd8d2ca17a180786b69acc140d282b71a49"
  },
  "kernelspec": {
   "display_name": "Python 3.9.10 64-bit",
   "language": "python",
   "name": "python3"
  },
  "language_info": {
   "codemirror_mode": {
    "name": "ipython",
    "version": 3
   },
   "file_extension": ".py",
   "mimetype": "text/x-python",
   "name": "python",
   "nbconvert_exporter": "python",
   "pygments_lexer": "ipython3",
   "version": "3.9.10"
  },
  "orig_nbformat": 4
 },
 "nbformat": 4,
 "nbformat_minor": 2
}
