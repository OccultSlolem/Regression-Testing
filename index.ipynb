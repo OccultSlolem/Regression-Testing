{
 "cells": [
  {
   "cell_type": "markdown",
   "metadata": {},
   "source": [
    "The equation for a 2D regression line (where there are two independent variables) is as follows:"
   ]
  },
  {
   "cell_type": "markdown",
   "metadata": {},
   "source": [
    "((mean of all x's * mean of all y's) * - (mean of all x*y's))/(((mean of all x)**2) - (mean of all x squareds))"
   ]
  },
  {
   "cell_type": "markdown",
   "metadata": {},
   "source": [
    "2D Regression line calculation example:"
   ]
  },
  {
   "cell_type": "code",
   "execution_count": 3,
   "metadata": {},
   "outputs": [
    {
     "name": "stdout",
     "output_type": "stream",
     "text": [
      "y = 0.5934379457917262x + (0.5748930099857343)\n"
     ]
    }
   ],
   "source": [
    "class Point2D:\n",
    "    def __init__(self,x,y):\n",
    "        self.x = x\n",
    "        self.y = y\n",
    "\n",
    "# Generates a line of least squares\n",
    "def lineOfBestFit(points, printOut):\n",
    "    meanX = float(0)\n",
    "    meanY = float(0)\n",
    "    meanXY = float(0)\n",
    "    meanXSquared = float(0)\n",
    "    slope = float(0)\n",
    "\n",
    "    for i in points:\n",
    "        meanX += i.x\n",
    "        meanY += i.y\n",
    "        meanXY += (i.x * i.y)\n",
    "        meanXSquared = ((i.x)^2)\n",
    "    meanX /= len(points)\n",
    "    meanY /= len(points)\n",
    "    meanXY /= len(points)\n",
    "    meanXSquared /= len(points)\n",
    "\n",
    "    slope = ((meanX*meanY)-(meanY))/(((meanX)**2)-meanXSquared)\n",
    "    yInt = meanY - (slope*meanX)\n",
    "    if printOut:\n",
    "        print(\"y = \" + str(slope) + \"x + (\" + str(yInt) + \")\")\n",
    "    \n",
    "\n",
    "a = Point2D(8,4)\n",
    "b = Point2D(4,7)\n",
    "c = Point2D(9,3)\n",
    "d = Point2D(5,2)\n",
    "e = Point2D(7,8)\n",
    "f = Point2D(5,2)\n",
    "lineOfBestFit([a,b,c,d,e,f], True)"
   ]
  },
  {
   "cell_type": "markdown",
   "metadata": {},
   "source": [
    "Matplotlib sin wave example:"
   ]
  },
  {
   "cell_type": "code",
   "execution_count": 4,
   "metadata": {},
   "outputs": [
    {
     "data": {
      "image/png": "[encoded data removed]",
      "text/plain": [
       "<Figure size 144x144 with 1 Axes>"
      ]
     },
     "metadata": {
      "needs_background": "light"
     },
     "output_type": "display_data"
    }
   ],
   "source": [
    "import matplotlib.pyplot as plt\n",
    "import numpy as np\n",
    "\n",
    "plt.style.use('_mpl-gallery')\n",
    "\n",
    "#make data\n",
    "x = np.linspace(0,10,100)\n",
    "y = 4 + 2 * np.sin(2 * x)\n",
    "\n",
    "# plot\n",
    "fig, ax = plt.subplots()\n",
    "\n",
    "ax.plot(x,y, linewidth=2.0)\n",
    "\n",
    "ax.set(xlim=(0,8), xticks=np.arange(1,8), ylim=(0,8), yticks=np.arange(1,8))\n",
    "plt.show()"
   ]
  }
 ],
 "metadata": {
  "interpreter": {
   "hash": "aee8b7b246df8f9039afb4144a1f6fd8d2ca17a180786b69acc140d282b71a49"
  },
  "kernelspec": {
   "display_name": "Python 3.9.10 64-bit",
   "language": "python",
   "name": "python3"
  },
  "language_info": {
   "codemirror_mode": {
    "name": "ipython",
    "version": 3
   },
   "file_extension": ".py",
   "mimetype": "text/x-python",
   "name": "python",
   "nbconvert_exporter": "python",
   "pygments_lexer": "ipython3",
   "version": "3.9.7"
  },
  "orig_nbformat": 4
 },
 "nbformat": 4,
 "nbformat_minor": 2
}
