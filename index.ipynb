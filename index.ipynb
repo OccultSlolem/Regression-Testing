{
 "cells": [
  {
   "cell_type": "code",
   "execution_count": 6,
   "metadata": {},
   "outputs": [
    {
     "name": "stdout",
     "output_type": "stream",
     "text": [
      "Hello, world!\n"
     ]
    }
   ],
   "source": [
    "print(\"Hello, world!\")"
   ]
  },
  {
   "cell_type": "code",
   "execution_count": 9,
   "metadata": {},
   "outputs": [
    {
     "name": "stdout",
     "output_type": "stream",
     "text": [
      "182\n"
     ]
    }
   ],
   "source": [
    "foo = 13\n",
    "bar = 14\n",
    "\n",
    "print(foo*bar)"
   ]
  },
  {
   "cell_type": "code",
   "execution_count": 21,
   "metadata": {},
   "outputs": [
    {
     "name": "stdout",
     "output_type": "stream",
     "text": [
      "b = 2.364864864864865x * 1.75\n"
     ]
    }
   ],
   "source": [
    "class Point2D:\n",
    "    def __init__(self,x,y):\n",
    "        self.x = x\n",
    "        self.y = y\n",
    "\n",
    "def lineOfBestFit(points):\n",
    "    meanX = float(0)\n",
    "    meanY = float(0)\n",
    "    meanXY = float(0)\n",
    "    meanXSquared = float(0)\n",
    "    slope = float(0)\n",
    "\n",
    "    for i in points:\n",
    "        meanX += i.x\n",
    "        meanY += i.y\n",
    "        meanXY += (i.x * i.y)\n",
    "        meanXSquared = ((i.x)^2)\n",
    "    meanX /= len(points)\n",
    "    meanY /= len(points)\n",
    "    meanXY /= len(points)\n",
    "    meanXSquared /= len(points)\n",
    "\n",
    "    slope = ((meanX*meanY)-(meanY))/(((meanX)**2)-meanXSquared)\n",
    "    print(\"b = \" + str(meanY - slope) + \"x * \" + str(meanX))\n",
    "\n",
    "a = Point2D(1,2)\n",
    "b = Point2D(3,2)\n",
    "c = Point2D(2,5)\n",
    "d = Point2D(1,5)\n",
    "lineOfBestFit([a,b,c,d])"
   ]
  }
 ],
 "metadata": {
  "interpreter": {
   "hash": "aee8b7b246df8f9039afb4144a1f6fd8d2ca17a180786b69acc140d282b71a49"
  },
  "kernelspec": {
   "display_name": "Python 3.9.10 64-bit",
   "language": "python",
   "name": "python3"
  },
  "language_info": {
   "codemirror_mode": {
    "name": "ipython",
    "version": 3
   },
   "file_extension": ".py",
   "mimetype": "text/x-python",
   "name": "python",
   "nbconvert_exporter": "python",
   "pygments_lexer": "ipython3",
   "version": "3.9.10"
  },
  "orig_nbformat": 4
 },
 "nbformat": 4,
 "nbformat_minor": 2
}
